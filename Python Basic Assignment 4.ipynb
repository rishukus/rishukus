{
 "cells": [
  {
   "cell_type": "code",
   "execution_count": null,
   "id": "ce7bcfa1",
   "metadata": {},
   "outputs": [],
   "source": [
    "Question 1. What exactly is []?\n",
    "\n",
    "Answer :  [ ] is a empty list, like a =[ ]"
   ]
  },
  {
   "cell_type": "code",
   "execution_count": null,
   "id": "3bed4944",
   "metadata": {},
   "outputs": [],
   "source": [
    "Question 2. In a list of values stored in a variable called spam, how would you assign the value 'hello' as the\n",
    "            third value? (Assume [2, 4, 6, 8, 10] are in spam.)\n",
    "            Let's pretend the spam includes the list ['a','b','c','d'] for the next three queries.\n",
    "    \n",
    "Answer : when we assigned the value 'hello'"
   ]
  },
  {
   "cell_type": "code",
   "execution_count": 2,
   "id": "f913aae2",
   "metadata": {},
   "outputs": [
    {
     "data": {
      "text/plain": [
       "[2, 4, 'hello', 8, 10]"
      ]
     },
     "execution_count": 2,
     "metadata": {},
     "output_type": "execute_result"
    }
   ],
   "source": [
    "# solution by changing the value in index 3\n",
    "spam = [2, 4, 6, 8, 10]\n",
    "spam[2] = 'hello'\n",
    "spam"
   ]
  },
  {
   "cell_type": "code",
   "execution_count": 4,
   "id": "b5977d6d",
   "metadata": {},
   "outputs": [
    {
     "data": {
      "text/plain": [
       "'d'"
      ]
     },
     "execution_count": 4,
     "metadata": {},
     "output_type": "execute_result"
    }
   ],
   "source": [
    "# Question 3. What is the value of spam[int(int('3' * 2)/11)]?\n",
    "\n",
    "# Answer : \n",
    "spam = ['a', 'b','c','d']\n",
    "spam[int(int('3' * 2) / 11)] # spam[int(33/11)] = spam[3]"
   ]
  },
  {
   "cell_type": "code",
   "execution_count": 5,
   "id": "2226a7c5",
   "metadata": {},
   "outputs": [
    {
     "data": {
      "text/plain": [
       "'d'"
      ]
     },
     "execution_count": 5,
     "metadata": {},
     "output_type": "execute_result"
    }
   ],
   "source": [
    "#Question 4. What is the value of spam[-1]?\n",
    "\n",
    "#Answer : \n",
    "spam = ['a', 'b','c','d']\n",
    "spam[-1] # negative index # d\n",
    "     "
   ]
  },
  {
   "cell_type": "code",
   "execution_count": 6,
   "id": "861704f6",
   "metadata": {},
   "outputs": [
    {
     "data": {
      "text/plain": [
       "['a', 'b']"
      ]
     },
     "execution_count": 6,
     "metadata": {},
     "output_type": "execute_result"
    }
   ],
   "source": [
    "#Question 5. What is the value of spam[:2]?\n",
    "          Let's pretend bacon has the list [3.14, 'cat,'11','cat',True] for the next three questions.\n",
    "\n",
    "#Answer :\n",
    "\n",
    "spam[:2] # c"
   ]
  },
  {
   "cell_type": "code",
   "execution_count": 7,
   "id": "0e1a2ff1",
   "metadata": {},
   "outputs": [
    {
     "data": {
      "text/plain": [
       "1"
      ]
     },
     "execution_count": 7,
     "metadata": {},
     "output_type": "execute_result"
    }
   ],
   "source": [
    "#Question 6. What is the value of bacon.index('cat')?\n",
    "\n",
    "#Answer : \n",
    "bacon = [3.14, 'cat', 11, 'cat', True]\n",
    "bacon.index('cat') # it returns the index of first occurrence of 'cat'"
   ]
  },
  {
   "cell_type": "code",
   "execution_count": 8,
   "id": "3412c474",
   "metadata": {},
   "outputs": [
    {
     "data": {
      "text/plain": [
       "[3.14, 'cat', 11, 'cat', True, 99]"
      ]
     },
     "execution_count": 8,
     "metadata": {},
     "output_type": "execute_result"
    }
   ],
   "source": [
    "#Question 7. How does bacon.append(99) change the look of the list value in bacon?\n",
    "\n",
    "#Answer : \n",
    "bacon = [3.14, 'cat', 11, 'cat', True]\n",
    "bacon.append(99) # append adds the item at the end of the list\n",
    "bacon\n",
    "     "
   ]
  },
  {
   "cell_type": "code",
   "execution_count": 9,
   "id": "58ca67dd",
   "metadata": {},
   "outputs": [
    {
     "data": {
      "text/plain": [
       "[3.14, 11, 'cat', True]"
      ]
     },
     "execution_count": 9,
     "metadata": {},
     "output_type": "execute_result"
    }
   ],
   "source": [
    "#Question 8. How does bacon.remove('cat') change the look of the list in bacon?\n",
    "\n",
    "#Answer : \n",
    "bacon = [3.14, 'cat', 11, 'cat', True]\n",
    "bacon.remove('cat') # remove first occurrence of item\n",
    "bacon"
   ]
  },
  {
   "cell_type": "code",
   "execution_count": 11,
   "id": "b7384385",
   "metadata": {},
   "outputs": [
    {
     "data": {
      "text/plain": [
       "[1, 4, 2, 5]"
      ]
     },
     "execution_count": 11,
     "metadata": {},
     "output_type": "execute_result"
    }
   ],
   "source": [
    "#Question 9. What are the list concatenation and list replication operators?\n",
    "\n",
    "#Answer : #( * ) is list replication operator ( + ) is list concatination operator\n",
    "\n",
    "l1 = [1,4]\n",
    "l2 = [2,5]\n",
    "# list concatination\n",
    "l1+l2"
   ]
  },
  {
   "cell_type": "code",
   "execution_count": 12,
   "id": "bac32e7f",
   "metadata": {},
   "outputs": [
    {
     "data": {
      "text/plain": [
       "[7, 4, 7, 4, 7, 4]"
      ]
     },
     "execution_count": 12,
     "metadata": {},
     "output_type": "execute_result"
    }
   ],
   "source": [
    "l1 = [7,4]\n",
    "\n",
    "# list replication\n",
    "l1*3"
   ]
  },
  {
   "cell_type": "code",
   "execution_count": 14,
   "id": "a35da89c",
   "metadata": {},
   "outputs": [
    {
     "data": {
      "text/plain": [
       "[3.14, 'cat', 11, 'cat', True, 99]"
      ]
     },
     "execution_count": 14,
     "metadata": {},
     "output_type": "execute_result"
    }
   ],
   "source": [
    "#Question 10. What is difference between the list methods append() and insert()?\n",
    "\n",
    "#Answer : append() Appends object to the end of the list\n",
    " # insert() Insert object before index\n",
    "\n",
    "bacon = [3.14, 'cat', 11, 'cat', True]\n",
    "bacon.append(99) # append adds the item at the end of the list\n",
    "bacon"
   ]
  },
  {
   "cell_type": "code",
   "execution_count": 15,
   "id": "cf473742",
   "metadata": {},
   "outputs": [
    {
     "data": {
      "text/plain": [
       "[2, 4, 'hello', 6, 8, 10]"
      ]
     },
     "execution_count": 15,
     "metadata": {},
     "output_type": "execute_result"
    }
   ],
   "source": [
    "# solution by inserting value in 3rd index\n",
    "spam = [2, 4, 6, 8, 10]\n",
    "spam.insert(2,'hello')\n",
    "spam\n",
    "     "
   ]
  },
  {
   "cell_type": "code",
   "execution_count": 16,
   "id": "2727e33d",
   "metadata": {},
   "outputs": [
    {
     "data": {
      "text/plain": [
       "[3.14, 11, 'cat', True]"
      ]
     },
     "execution_count": 16,
     "metadata": {},
     "output_type": "execute_result"
    }
   ],
   "source": [
    "#Question 11. What are the two methods for removing items from a list?\n",
    "\n",
    "#Answer : \n",
    "\n",
    "#remove(item) - removeds first occurence of a item\n",
    "bacon = [3.14, 'cat', 11, 'cat', True]\n",
    "bacon.remove('cat')\n",
    "bacon\n",
    "     "
   ]
  },
  {
   "cell_type": "code",
   "execution_count": 17,
   "id": "3dae96c9",
   "metadata": {},
   "outputs": [
    {
     "data": {
      "text/plain": [
       "[3.14, 'cat', 11, 'cat']"
      ]
     },
     "execution_count": 17,
     "metadata": {},
     "output_type": "execute_result"
    }
   ],
   "source": [
    "#pop() - Remove and returns item at index (default last).\n",
    "bacon = [3.14, 'cat', 11, 'cat', True]\n",
    "bacon.pop()\n",
    "bacon\n",
    "     "
   ]
  },
  {
   "cell_type": "code",
   "execution_count": null,
   "id": "15ff1f96",
   "metadata": {},
   "outputs": [],
   "source": [
    "Question 12. Describe how list values and string values are identical.\n",
    "\n",
    "Answer :\n",
    "\n",
    "1 Both lists and strings can be passed to len()\n",
    "2 Have indexes and slices\n",
    "3 Can be used in for loops\n",
    "4 Can be concatenated or replicated\n",
    "5 Can be used with the in and not in operators"
   ]
  },
  {
   "cell_type": "code",
   "execution_count": null,
   "id": "e27cd01d",
   "metadata": {},
   "outputs": [],
   "source": [
    "Question 13. What's the difference between tuples and lists?\n",
    "\n",
    "Answer : Lists : are mutable - they can have values added, removed, or changed. \n",
    "         lists use the square brackets, [ and ]\n",
    "        \n",
    "Tuples : are immutable; they cannot be changed at all. \n",
    "         Tuples are written using parentheses, ( and )"
   ]
  },
  {
   "cell_type": "code",
   "execution_count": 18,
   "id": "c75ebd26",
   "metadata": {},
   "outputs": [
    {
     "data": {
      "text/plain": [
       "(42,)"
      ]
     },
     "execution_count": 18,
     "metadata": {},
     "output_type": "execute_result"
    }
   ],
   "source": [
    "#Question 14. How do you type a tuple value that only contains the integer 42?\n",
    "\n",
    "#Answer :\n",
    "\n",
    "tuple = (42,)\n",
    "tuple\n",
    "     "
   ]
  },
  {
   "cell_type": "code",
   "execution_count": 54,
   "id": "490fc90a",
   "metadata": {},
   "outputs": [
    {
     "name": "stdout",
     "output_type": "stream",
     "text": [
      "(1, 2, 3, 4)\n"
     ]
    }
   ],
   "source": [
    "\n",
    "#Question 15. How do you get a list value's tuple form? How do you get a tuple value's list form?\n",
    "\n",
    "#Answer : \n",
    "\n",
    "#list value's tuple form \n",
    "\n",
    "def convert(list):\n",
    "    return (*list, )\n",
    " \n",
    "# Driver function\n",
    "list = [1, 2, 3, 4]\n",
    "print(convert(list))\n"
   ]
  },
  {
   "cell_type": "code",
   "execution_count": 25,
   "id": "92e82835",
   "metadata": {},
   "outputs": [
    {
     "data": {
      "text/plain": [
       "[3, 4]"
      ]
     },
     "execution_count": 25,
     "metadata": {},
     "output_type": "execute_result"
    }
   ],
   "source": [
    "#tuple value's list form \n",
    "\n",
    "t1 = (3,4)\n",
    "t = list(t1)\n",
    "t"
   ]
  },
  {
   "cell_type": "code",
   "execution_count": null,
   "id": "19834a9a",
   "metadata": {},
   "outputs": [],
   "source": [
    "Question 16. Variables that &quot;contain&quot; list values are not\n",
    "              necessarily lists themselves. Instead, what do the contain?\n",
    "\n",
    "Answer : They contain references to list values"
   ]
  },
  {
   "cell_type": "code",
   "execution_count": null,
   "id": "f57c333a",
   "metadata": {},
   "outputs": [],
   "source": [
    "Question 17. How do you distinguish between copy.copy() and copy.deepcopy()?\n",
    "\n",
    "Answer : The copy.copy() function will do a shallow copy of a list,\n",
    "         The copy.deepcopy() function will do a deep copy of a list. only copy.\n",
    "         deepcopy() will duplicate any lists inside the list"
   ]
  }
 ],
 "metadata": {
  "kernelspec": {
   "display_name": "Python 3 (ipykernel)",
   "language": "python",
   "name": "python3"
  },
  "language_info": {
   "codemirror_mode": {
    "name": "ipython",
    "version": 3
   },
   "file_extension": ".py",
   "mimetype": "text/x-python",
   "name": "python",
   "nbconvert_exporter": "python",
   "pygments_lexer": "ipython3",
   "version": "3.11.4"
  }
 },
 "nbformat": 4,
 "nbformat_minor": 5
}
