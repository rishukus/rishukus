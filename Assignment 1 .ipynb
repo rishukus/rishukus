{
 "cells": [
  {
   "cell_type": "code",
   "execution_count": null,
   "id": "da944199",
   "metadata": {},
   "outputs": [],
   "source": [
    "Question 1. In the below elements which of them are values or an expression? eg:- values can be\n",
    "integer or string and expressions will be mathematical operators.\n",
    "*\n",
    "\n",
    "'hello'\n",
    "\n",
    "-87.8\n",
    "\n",
    "-\n",
    "\n",
    "/\n",
    "\n",
    "+\n",
    "\n",
    "6\n",
    "\n",
    "Answer1: \n",
    "    Values: 'hello', -87.8, 6\n",
    "    Expressions: *, -, /, +"
   ]
  },
  {
   "cell_type": "code",
   "execution_count": null,
   "id": "8f163396",
   "metadata": {},
   "outputs": [],
   "source": [
    "Question 2. What is the difference between string and variable?\n",
    "    \n",
    "Answer:\n",
    "    \n",
    " string: A string is simply a series of characters.Anything inside quotes is considered astring in Python, and\n",
    "         you can use single or double quotes around your strings.\n",
    "        \n",
    " Variable:Variables are nothing but reserved memory locaons to store values.  Thismeans that when you create a \n",
    "          variable you reserve some space in memory.\n",
    "    "
   ]
  },
  {
   "cell_type": "code",
   "execution_count": null,
   "id": "6fd010d9",
   "metadata": {},
   "outputs": [],
   "source": [
    "Question 3. Describe three different data types.\n",
    "    \n",
    " Integers – This value is represented by int class. It contains positive or negative wholenumbers (without fraction\n",
    "            or decimal). In Python there is no limit to how long aninteger value can be.\n",
    "\n",
    " Float – This value is represented by float class. It is a real number with floating pointrepresentation. It\n",
    "    is specified by a decimal point. Optionally, the character e or Efollowed by a positive or negative integer \n",
    "    may be appended to specify scientific notation.\n",
    "    \n",
    " Complex Numbers – Complex number is represented by complex class. It is specifiedas(real part) + (imaginary part) j.\n",
    "         For example – 2+3j"
   ]
  },
  {
   "cell_type": "code",
   "execution_count": null,
   "id": "f79f6e62",
   "metadata": {},
   "outputs": [],
   "source": [
    "Question 4. What is an expression made up of? What do all expressions do?\n",
    "    \n",
    "Answer: Expression is made up of values, containers, and mathemacal operators(operands) e.g., a = 2 + 3 and expressions\n",
    "        are used to evaluate the values or represent theresult on the screen."
   ]
  },
  {
   "cell_type": "code",
   "execution_count": null,
   "id": "bc50a890",
   "metadata": {},
   "outputs": [],
   "source": [
    "Question:5.This assignment statements, like spam = 10. What is the difference between an\n",
    "         expression and a statement?    \n",
    "        \n",
    "Answer: Expression is made up of values, containers, and mathemacal operators (operands) andthe statement\n",
    "    is just like a command that a python interpreter executes like print."
   ]
  },
  {
   "cell_type": "code",
   "execution_count": null,
   "id": "c0579dc3",
   "metadata": {},
   "outputs": [],
   "source": [
    "Question 6.After running the following code, what does the variable bacon contain?\n",
    "bacon = 22\n",
    "bacon + 1\n",
    "\n",
    "Answer: after running this code we will get-\n",
    "    bacon = 22\n",
    "    then answer = 22 we get\n",
    "    but when we run bacon + 1 code\n",
    "    we get 23 as mention below"
   ]
  },
  {
   "cell_type": "code",
   "execution_count": 8,
   "id": "c8f7e0f8",
   "metadata": {},
   "outputs": [
    {
     "name": "stdout",
     "output_type": "stream",
     "text": [
      "22\n"
     ]
    }
   ],
   "source": [
    "bacon = 22\n",
    "print(bacon)"
   ]
  },
  {
   "cell_type": "code",
   "execution_count": 13,
   "id": "303029ba",
   "metadata": {},
   "outputs": [
    {
     "name": "stdout",
     "output_type": "stream",
     "text": [
      "23\n"
     ]
    }
   ],
   "source": [
    "bacon = 22\n",
    "bacon + 1\n",
    "print(bacon + 1)"
   ]
  },
  {
   "cell_type": "code",
   "execution_count": 17,
   "id": "b40c3f28",
   "metadata": {},
   "outputs": [
    {
     "name": "stdout",
     "output_type": "stream",
     "text": [
      "Object `be` not found.\n",
      "spamspamspam\n",
      "spamspamspam\n"
     ]
    }
   ],
   "source": [
    "Question 7. What should the values of the following two terms be?\n",
    "            'spam' + 'spamspam'\n",
    "            'spam' * 3\n",
    "\n",
    "Answer: when we run these following two terms-\n",
    "        then answer is coming same result as you see in below \n",
    "\n",
    "\n",
    "'spam' + 'spamspam'\n",
    "print('spam' + 'spamspam')\n",
    "\n",
    "'spam' * 3\n",
    "print('spam' * 3)"
   ]
  },
  {
   "cell_type": "code",
   "execution_count": null,
   "id": "23a6d74b",
   "metadata": {},
   "outputs": [],
   "source": [
    "Question 8. Why is eggs a valid variable name while 100 is invalid?\n",
    "\n",
    "Answer: Rules For creating variables in Python:-\n",
    "        \n",
    "     *  A variable name must start with a letter or the underscore character.\n",
    "     *  A variable name cannot start with a number.\n",
    "     *  A variable name can only contain alpha-numeric characters and underscores (A-z, 0-9,and _ ).\n",
    "     *  Variable names are case-sensitive (name, Name and NAME are three differentvariables).\n",
    "     *  The reserved words(keywords) cannot be used naming the variable.\n",
    "       \n",
    "        so thats why egg is a valid variable and 100 is invalid.\n",
    "    "
   ]
  },
  {
   "cell_type": "code",
   "execution_count": null,
   "id": "c5fe97ee",
   "metadata": {},
   "outputs": [],
   "source": [
    "QUESTION 9. What three functions can be used to get the integer, floating-point number, or string\n",
    "            version of a value?\n",
    "    \n",
    "Answer: for integer - int(),\n",
    "        for floating-point number - float(),\n",
    "        for string -  str(),\n",
    "      "
   ]
  },
  {
   "cell_type": "code",
   "execution_count": null,
   "id": "165661bd",
   "metadata": {},
   "outputs": [],
   "source": [
    "Question 10. Why does this expression cause an error? How can you fix it?\n",
    "\n",
    "             'I have eaten' +99+ 'burritos'.\n",
    "    \n",
    "Answer:  Because 99 is an integer it cannot be concatenated with strings,\n",
    "         if we have to concatenate it. we need to do typecastng.\n",
    "        'I have eaten' + str(99) +'burritos'"
   ]
  },
  {
   "cell_type": "code",
   "execution_count": 19,
   "id": "8d560cc9",
   "metadata": {},
   "outputs": [
    {
     "name": "stdout",
     "output_type": "stream",
     "text": [
      "I have eaten99burritos\n"
     ]
    }
   ],
   "source": [
    "'I have eaten' + str(99) +'burritos'\n",
    "print('I have eaten' + str(99) +'burritos')"
   ]
  }
 ],
 "metadata": {
  "kernelspec": {
   "display_name": "Python 3 (ipykernel)",
   "language": "python",
   "name": "python3"
  },
  "language_info": {
   "codemirror_mode": {
    "name": "ipython",
    "version": 3
   },
   "file_extension": ".py",
   "mimetype": "text/x-python",
   "name": "python",
   "nbconvert_exporter": "python",
   "pygments_lexer": "ipython3",
   "version": "3.11.4"
  }
 },
 "nbformat": 4,
 "nbformat_minor": 5
}
