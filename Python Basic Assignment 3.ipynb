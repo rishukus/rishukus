{
 "cells": [
  {
   "cell_type": "code",
   "execution_count": null,
   "id": "08c8370c",
   "metadata": {},
   "outputs": [],
   "source": [
    "Question 1. Why are functions advantageous to have in your programs?\n",
    "\n",
    "Answer :  Advantages of having functions:\n",
    "Functions reduce the need for duplicate code. This makes programs shorter, easier to read, and easier to update."
   ]
  },
  {
   "cell_type": "code",
   "execution_count": null,
   "id": "0bf5c878",
   "metadata": {},
   "outputs": [],
   "source": [
    "Question 2. When does the code in a function run: when it's specified or when it's called?\n",
    "    \n",
    "Answer :Code in the function runs when the function is called. "
   ]
  },
  {
   "cell_type": "code",
   "execution_count": null,
   "id": "4280412e",
   "metadata": {},
   "outputs": [],
   "source": [
    "Question 3. What statement creates a function?\n",
    "\n",
    "Answer : The def statement defines (i.e. creates) a function.\n",
    "Eg .\n",
    "def my_func():\n",
    "pass"
   ]
  },
  {
   "cell_type": "code",
   "execution_count": null,
   "id": "55e7f6fc",
   "metadata": {},
   "outputs": [],
   "source": [
    "Question 4. What is the difference between a function and a function call?\n",
    "\n",
    "Answer : #def of func\n",
    "def my_func(): \n",
    "    pass \n",
    "my_func() #calling of function\n",
    "\n",
    "       A function consists of the def statement and the code in its def clause.\n",
    "\n",
    "       A function call is what moves the program execution into the function, and the function\n",
    "    call evaluates to the function's return value."
   ]
  },
  {
   "cell_type": "code",
   "execution_count": null,
   "id": "f5e68d80",
   "metadata": {},
   "outputs": [],
   "source": [
    "Question 5. How many global scopes are there in a Python program? How many local scopes?\n",
    "\n",
    "Answer : There's only one global Python scope per program execution. \n",
    "         This scope remains in existence until the \n",
    "         program terminates , and a local scope is created whenever a function is called."
   ]
  },
  {
   "cell_type": "code",
   "execution_count": null,
   "id": "44f76356",
   "metadata": {},
   "outputs": [],
   "source": [
    "Question 6. What happens to variables in a local scope when the function call returns?\n",
    "\n",
    "Answer : When a function returns, the local scope is destroyed."
   ]
  },
  {
   "cell_type": "code",
   "execution_count": null,
   "id": "e5a7c103",
   "metadata": {},
   "outputs": [],
   "source": [
    "Question 7. What is the concept of a return value?\n",
    "            Is it possible to have a return value in an expression?\n",
    "\n",
    "Answer : A return value is the value that a function call evaluates to.\n",
    "         Like any value, a return value can be used as part of an expression."
   ]
  },
  {
   "cell_type": "code",
   "execution_count": null,
   "id": "50782d73",
   "metadata": {},
   "outputs": [],
   "source": [
    "Question 8. If a function does not have a return statement, \n",
    "            what is the return value of a call to that function?\n",
    "\n",
    "Answer :  If the funtion does not have a return statement it will not return anything."
   ]
  },
  {
   "cell_type": "code",
   "execution_count": null,
   "id": "3eae5132",
   "metadata": {},
   "outputs": [],
   "source": [
    "Question 9. How do you make a function variable refer to the global variable?\n",
    "\n",
    "Answer : To make function variable as a global variable \n",
    "        you can use the global keyword to declare which variables are global."
   ]
  },
  {
   "cell_type": "code",
   "execution_count": null,
   "id": "99734b46",
   "metadata": {},
   "outputs": [],
   "source": [
    "Question 10. What is the data type of None?\n",
    "\n",
    "Answer : The data type of None is NoneType."
   ]
  },
  {
   "cell_type": "code",
   "execution_count": null,
   "id": "ae59ae0e",
   "metadata": {},
   "outputs": [],
   "source": [
    "Question 11. What does the sentence import areallyourpetsnamederic do?\n",
    "\n",
    "Answer : That import statement imports a module named\n",
    "         areallyourpetsnamederic. (But a module of this name doesnt exists in Python)"
   ]
  },
  {
   "cell_type": "code",
   "execution_count": null,
   "id": "a47fcb62",
   "metadata": {},
   "outputs": [],
   "source": [
    "Question 12. If you had a bacon() feature in a spam module, what would you call it after importing spam?\n",
    "\n",
    "Answer : .import spam\n",
    "          spam.bacon()"
   ]
  },
  {
   "cell_type": "code",
   "execution_count": null,
   "id": "8abfd850",
   "metadata": {},
   "outputs": [],
   "source": [
    "Question 13. What can you do to save a programme from crashing if it encounters an error?\n",
    "\n",
    "Answer : We can use try except clause to save a program from crashing."
   ]
  },
  {
   "cell_type": "code",
   "execution_count": null,
   "id": "f23c95f8",
   "metadata": {},
   "outputs": [],
   "source": [
    "Question 14. What is the purpose of the try clause? What is the purpose of the except clause?\n",
    "\n",
    "Answer : Try and Except clause is used to handle the errors within our code .\n",
    "         The try block is used to check some code for errors i.e the code inside\n",
    "         the try block will execute when there is no error in the program. Whereas\n",
    "         the code inside the except block will execute whenever the program encounters\n",
    "         some error in the try block.\n",
    "\n",
    "Eg. try:\n",
    "# Code\n",
    "except:\n",
    "# Executed if error in the\n",
    "# try block"
   ]
  }
 ],
 "metadata": {
  "kernelspec": {
   "display_name": "Python 3 (ipykernel)",
   "language": "python",
   "name": "python3"
  },
  "language_info": {
   "codemirror_mode": {
    "name": "ipython",
    "version": 3
   },
   "file_extension": ".py",
   "mimetype": "text/x-python",
   "name": "python",
   "nbconvert_exporter": "python",
   "pygments_lexer": "ipython3",
   "version": "3.11.4"
  }
 },
 "nbformat": 4,
 "nbformat_minor": 5
}
